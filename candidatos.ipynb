{
 "cells": [
  {
   "cell_type": "markdown",
   "id": "35322500-d46b-40e7-8574-a57c9432dae6",
   "metadata": {},
   "source": [
    "## utils"
   ]
  },
  {
   "cell_type": "code",
   "execution_count": null,
   "id": "675eabcd-b738-41ac-a92f-dcceb156a195",
   "metadata": {},
   "outputs": [],
   "source": [
    "!pip install pandas\n",
    "!pip install ipywidgets"
   ]
  },
  {
   "cell_type": "code",
   "execution_count": 1,
   "id": "1d09614d-2493-440a-a9ce-2b4845a95551",
   "metadata": {},
   "outputs": [],
   "source": [
    "import ipywidgets as widgets\n",
    "import random\n",
    "import pandas as pd\n",
    "\n",
    "def filterDataframe(df):\n",
    "\n",
    "    filtro = [\"DS_GENERO == 'MASCULINO'\",\"DS_GENERO == 'FEMININO'\",\"DS_COR_RACA == 'BRANCA'\",\"DS_COR_RACA == 'PARDA'\",\"DS_COR_RACA == 'PRETA'\",\"DS_COR_RACA == 'AMARELA'\",\"DS_COR_RACA == 'INDÍGENA'\",\"IDEOLOGIA_PARTIDO == 'Esquerda'\", \"IDEOLOGIA_PARTIDO == 'Direita'\", \"IDEOLOGIA_PARTIDO == 'Centro'\"]\n",
    "    filtroTitulos = [\"Homem\",\"Mulher\",'Branca','Parda','Preta','Amarela','Indígena','Esquerda','Direita','Centro']\n",
    "\n",
    "\n",
    "    names = []\n",
    "    checkbox_objects = []\n",
    "    for idx,key in enumerate(filtro):\n",
    "        checkbox_objects.append(widgets.Checkbox(value=False, description=filtroTitulos[idx]))\n",
    "        names.append(key)\n",
    "\n",
    "    arg_dict = {names[i]: checkbox for i, checkbox in enumerate(checkbox_objects)}\n",
    "\n",
    "    ui = widgets.GridBox(children=checkbox_objects,layout=widgets.Layout(grid_template_columns=\"repeat(4, 100px)\"))\n",
    "\n",
    "    selected_data = []\n",
    "    def select_data(**kwargs):\n",
    "        selected_data.clear()\n",
    "\n",
    "        for key in kwargs:\n",
    "            if kwargs[key] is True:\n",
    "                selected_data.append(key)\n",
    "\n",
    "\n",
    "        if len(selected_data) > 0: \n",
    "\n",
    "            listaGenero = [x for x in selected_data if \"DS_GENERO\" in x]\n",
    "            listaEtnia = [x for x in selected_data if \"DS_COR_RACA\" in x]\n",
    "            listaIdeologia = [x for x in selected_data if \"IDEOLOGIA_PARTIDO\" in x]\n",
    "\n",
    "            stringGenero = \"(\"+\" | \".join(listaGenero)+\")\"        \n",
    "            stringEtnia = \"(\"+\" | \".join(listaEtnia)+\")\"\n",
    "            stringIdeologia = \"(\"+\" | \".join(listaIdeologia)+\")\"\n",
    "\n",
    "            selection = f\"{stringGenero}{' & '+stringEtnia if len(listaEtnia) > 0 else ''}{' & '+stringIdeologia if len(listaIdeologia) > 0 else ''}\"\n",
    "\n",
    "            # candidatosDepEstadual = pd.read_csv(\"candidatosDepEstadual.csv\")\n",
    "\n",
    "            dff = df.query(selection)\n",
    "            display(dff)\n",
    "\n",
    "\n",
    "            coluna = dff['NM_URNA_CANDIDATO'] + \" - \" + dff['NR_CANDIDATO'].astype(str)\n",
    "\n",
    "\n",
    "            global listaCandidatos \n",
    "            listaCandidatos = coluna.tolist()\n",
    "\n",
    "            # candidatosDepEstadual['selecao']\n",
    "\n",
    "            # return candidatosDepEstadual\n",
    "\n",
    "            print(f\"{len(listaCandidatos)} de {initialValue} ({round(len(listaCandidatos)/initialValue*100,2)}%)\")\n",
    "\n",
    "    out = widgets.interactive_output(select_data, arg_dict)\n",
    "    display(ui, out)\n"
   ]
  },
  {
   "cell_type": "markdown",
   "id": "9bd6b3bc-a9b5-4c08-9acd-8e56be0a71ae",
   "metadata": {
    "tags": []
   },
   "source": [
    "# candidatos a deputado estadual!"
   ]
  },
  {
   "cell_type": "code",
   "execution_count": 3,
   "id": "f1e90c31-8921-498c-b784-07a0496a9bd3",
   "metadata": {},
   "outputs": [
    {
     "data": {
      "application/vnd.jupyter.widget-view+json": {
       "model_id": "00834773432a489b888237e5b755d3c5",
       "version_major": 2,
       "version_minor": 0
      },
      "text/plain": [
       "GridBox(children=(Checkbox(value=False, description='Homem'), Checkbox(value=False, description='Mulher'), Che…"
      ]
     },
     "metadata": {},
     "output_type": "display_data"
    },
    {
     "data": {
      "application/vnd.jupyter.widget-view+json": {
       "model_id": "3800cdcc9c484a02a437cb33ac1c05bf",
       "version_major": 2,
       "version_minor": 0
      },
      "text/plain": [
       "Output()"
      ]
     },
     "metadata": {},
     "output_type": "display_data"
    }
   ],
   "source": [
    "candidatosDepEstadual = pd.read_csv(\"candidatosDepEstadual.csv\")\n",
    "# define o estado \n",
    "candidatosDepEstadual = candidatosDepEstadual[(candidatosDepEstadual['SG_UF']=='RS')]\n",
    "initialValue = candidatosDepEstadual.shape[0]\n",
    "\n",
    "filterDataframe(candidatosDepEstadual)\n",
    "\n"
   ]
  },
  {
   "cell_type": "code",
   "execution_count": 11,
   "id": "38bd4ce5-22d1-4c26-a216-4ea818d57859",
   "metadata": {},
   "outputs": [
    {
     "name": "stdout",
     "output_type": "stream",
     "text": [
      "ANGÉLICA DO POSTINHO - 77622\n",
      "IZAMEL FERREIRA - 40740\n"
     ]
    }
   ],
   "source": [
    "escolha = random.sample(listaCandidatos, 1)\n",
    "\n",
    "for v in escolha:\n",
    "    print(v)"
   ]
  },
  {
   "cell_type": "markdown",
   "id": "8243c252-dd05-481f-80a2-a9258c8088ff",
   "metadata": {
    "tags": []
   },
   "source": [
    "# candidatos a deputado federal!"
   ]
  },
  {
   "cell_type": "code",
   "execution_count": 12,
   "id": "d804c51e-70b5-4d54-944c-21a1c5705875",
   "metadata": {},
   "outputs": [
    {
     "data": {
      "application/vnd.jupyter.widget-view+json": {
       "model_id": "0cb6df3f78cf4fcc899332adf35194f1",
       "version_major": 2,
       "version_minor": 0
      },
      "text/plain": [
       "GridBox(children=(Checkbox(value=False, description='Homem'), Checkbox(value=False, description='Mulher'), Che…"
      ]
     },
     "metadata": {},
     "output_type": "display_data"
    },
    {
     "data": {
      "application/vnd.jupyter.widget-view+json": {
       "model_id": "bfd499a8af9343f2bb3307c69baa429a",
       "version_major": 2,
       "version_minor": 0
      },
      "text/plain": [
       "Output()"
      ]
     },
     "metadata": {},
     "output_type": "display_data"
    }
   ],
   "source": [
    "candidatosDepFederal = pd.read_csv(\"candidatosDepFederal.csv\")\n",
    "candidatosDepFederal = candidatosDepFederal[(candidatosDepFederal['SG_UF']=='RS')]\n",
    "initialValue = candidatosDepFederal.shape[0]\n",
    "\n",
    "\n",
    "filterDataframe(candidatosDepFederal)"
   ]
  },
  {
   "cell_type": "code",
   "execution_count": 13,
   "id": "3537f131-d540-43c1-aee3-53fa78132e64",
   "metadata": {},
   "outputs": [
    {
     "name": "stdout",
     "output_type": "stream",
     "text": [
      "ZILA FARIAS - 5005\n",
      "DENISE PESSÔA - 1333\n"
     ]
    }
   ],
   "source": [
    "escolha = random.sample(listaCandidatos, 1)\n",
    "\n",
    "for v in escolha:\n",
    "    print(v)"
   ]
  },
  {
   "cell_type": "markdown",
   "id": "2013a6e4-51a4-432e-aca9-36d3fa9b3a21",
   "metadata": {},
   "source": [
    "# candidatos a senador!"
   ]
  },
  {
   "cell_type": "code",
   "execution_count": 14,
   "id": "3e66e96f-97ed-478d-939f-5e5031e72b1c",
   "metadata": {},
   "outputs": [
    {
     "data": {
      "text/html": [
       "<div>\n",
       "<style scoped>\n",
       "    .dataframe tbody tr th:only-of-type {\n",
       "        vertical-align: middle;\n",
       "    }\n",
       "\n",
       "    .dataframe tbody tr th {\n",
       "        vertical-align: top;\n",
       "    }\n",
       "\n",
       "    .dataframe thead th {\n",
       "        text-align: right;\n",
       "    }\n",
       "</style>\n",
       "<table border=\"1\" class=\"dataframe\">\n",
       "  <thead>\n",
       "    <tr style=\"text-align: right;\">\n",
       "      <th></th>\n",
       "      <th>NM_URNA_CANDIDATO</th>\n",
       "      <th>SG_PARTIDO</th>\n",
       "      <th>IDEOLOGIA_PARTIDO</th>\n",
       "      <th>SG_UF</th>\n",
       "      <th>DS_GENERO</th>\n",
       "      <th>DS_COR_RACA</th>\n",
       "      <th>NR_IDADE_DATA_POSSE</th>\n",
       "      <th>VR_BEM_CANDIDATO</th>\n",
       "      <th>AGRUPAMENTO_BENS</th>\n",
       "      <th>DS_GRAU_INSTRUCAO</th>\n",
       "      <th>DS_OCUPACAO</th>\n",
       "      <th>ST_REELEICAO</th>\n",
       "      <th>NM_EMAIL</th>\n",
       "      <th>NR_CANDIDATO</th>\n",
       "    </tr>\n",
       "  </thead>\n",
       "  <tbody>\n",
       "    <tr>\n",
       "      <th>17</th>\n",
       "      <td>OLÍVIO DUTRA</td>\n",
       "      <td>PT</td>\n",
       "      <td>Esquerda</td>\n",
       "      <td>RS</td>\n",
       "      <td>MASCULINO</td>\n",
       "      <td>BRANCA</td>\n",
       "      <td>81.0</td>\n",
       "      <td>2163318.0</td>\n",
       "      <td>BENS_G1</td>\n",
       "      <td>SUPERIOR COMPLETO</td>\n",
       "      <td>SERVIDOR PÚBLICO CIVIL APOSENTADO</td>\n",
       "      <td>N</td>\n",
       "      <td>NÃO DIVULGÁVEL</td>\n",
       "      <td>131</td>\n",
       "    </tr>\n",
       "    <tr>\n",
       "      <th>29</th>\n",
       "      <td>COMANDANTE NÁDIA</td>\n",
       "      <td>PP</td>\n",
       "      <td>Direita</td>\n",
       "      <td>RS</td>\n",
       "      <td>FEMININO</td>\n",
       "      <td>BRANCA</td>\n",
       "      <td>54.0</td>\n",
       "      <td>1243859.0</td>\n",
       "      <td>BENS_G1</td>\n",
       "      <td>SUPERIOR COMPLETO</td>\n",
       "      <td>VEREADOR</td>\n",
       "      <td>N</td>\n",
       "      <td>NÃO DIVULGÁVEL</td>\n",
       "      <td>111</td>\n",
       "    </tr>\n",
       "    <tr>\n",
       "      <th>52</th>\n",
       "      <td>FABIANA SANGUINÉ</td>\n",
       "      <td>PSTU</td>\n",
       "      <td>Esquerda</td>\n",
       "      <td>RS</td>\n",
       "      <td>FEMININO</td>\n",
       "      <td>BRANCA</td>\n",
       "      <td>45.0</td>\n",
       "      <td>109000.0</td>\n",
       "      <td>BENS_G3</td>\n",
       "      <td>SUPERIOR COMPLETO</td>\n",
       "      <td>SERVIDOR PÚBLICO MUNICIPAL</td>\n",
       "      <td>N</td>\n",
       "      <td>NÃO DIVULGÁVEL</td>\n",
       "      <td>160</td>\n",
       "    </tr>\n",
       "    <tr>\n",
       "      <th>59</th>\n",
       "      <td>HAMILTON MOURÃO</td>\n",
       "      <td>REPUBLICANOS</td>\n",
       "      <td>Direita</td>\n",
       "      <td>RS</td>\n",
       "      <td>MASCULINO</td>\n",
       "      <td>INDÍGENA</td>\n",
       "      <td>69.0</td>\n",
       "      <td>1145762.0</td>\n",
       "      <td>BENS_G1</td>\n",
       "      <td>SUPERIOR COMPLETO</td>\n",
       "      <td>MEMBRO DAS FORÇAS ARMADAS</td>\n",
       "      <td>N</td>\n",
       "      <td>NÃO DIVULGÁVEL</td>\n",
       "      <td>100</td>\n",
       "    </tr>\n",
       "    <tr>\n",
       "      <th>80</th>\n",
       "      <td>PAULO ROSA</td>\n",
       "      <td>DC</td>\n",
       "      <td>Direita</td>\n",
       "      <td>RS</td>\n",
       "      <td>MASCULINO</td>\n",
       "      <td>BRANCA</td>\n",
       "      <td>54.0</td>\n",
       "      <td>NaN</td>\n",
       "      <td>NaN</td>\n",
       "      <td>ENSINO MÉDIO INCOMPLETO</td>\n",
       "      <td>EMPRESÁRIO</td>\n",
       "      <td>N</td>\n",
       "      <td>NÃO DIVULGÁVEL</td>\n",
       "      <td>270</td>\n",
       "    </tr>\n",
       "    <tr>\n",
       "      <th>121</th>\n",
       "      <td>ANA AMÉLIA LEMOS</td>\n",
       "      <td>PSD</td>\n",
       "      <td>Direita</td>\n",
       "      <td>RS</td>\n",
       "      <td>FEMININO</td>\n",
       "      <td>BRANCA</td>\n",
       "      <td>77.0</td>\n",
       "      <td>6063946.0</td>\n",
       "      <td>BENS_G1</td>\n",
       "      <td>SUPERIOR COMPLETO</td>\n",
       "      <td>JORNALISTA E REDATOR</td>\n",
       "      <td>N</td>\n",
       "      <td>NÃO DIVULGÁVEL</td>\n",
       "      <td>555</td>\n",
       "    </tr>\n",
       "    <tr>\n",
       "      <th>133</th>\n",
       "      <td>MARISTELA ZANOTTO</td>\n",
       "      <td>PSC</td>\n",
       "      <td>Direita</td>\n",
       "      <td>RS</td>\n",
       "      <td>FEMININO</td>\n",
       "      <td>BRANCA</td>\n",
       "      <td>59.0</td>\n",
       "      <td>432426.0</td>\n",
       "      <td>BENS_G2</td>\n",
       "      <td>ENSINO FUNDAMENTAL COMPLETO</td>\n",
       "      <td>EMPRESÁRIO</td>\n",
       "      <td>N</td>\n",
       "      <td>NÃO DIVULGÁVEL</td>\n",
       "      <td>200</td>\n",
       "    </tr>\n",
       "    <tr>\n",
       "      <th>195</th>\n",
       "      <td>PROFESSOR NADO</td>\n",
       "      <td>AVANTE</td>\n",
       "      <td>Centro</td>\n",
       "      <td>RS</td>\n",
       "      <td>MASCULINO</td>\n",
       "      <td>BRANCA</td>\n",
       "      <td>58.0</td>\n",
       "      <td>350000.0</td>\n",
       "      <td>BENS_G2</td>\n",
       "      <td>SUPERIOR COMPLETO</td>\n",
       "      <td>PROFESSOR DE ENSINO DE PRIMEIRO E SEGUNDO GRAUS</td>\n",
       "      <td>N</td>\n",
       "      <td>NÃO DIVULGÁVEL</td>\n",
       "      <td>700</td>\n",
       "    </tr>\n",
       "  </tbody>\n",
       "</table>\n",
       "</div>"
      ],
      "text/plain": [
       "     NM_URNA_CANDIDATO    SG_PARTIDO IDEOLOGIA_PARTIDO SG_UF  DS_GENERO  \\\n",
       "17        OLÍVIO DUTRA            PT          Esquerda    RS  MASCULINO   \n",
       "29    COMANDANTE NÁDIA            PP           Direita    RS   FEMININO   \n",
       "52    FABIANA SANGUINÉ          PSTU          Esquerda    RS   FEMININO   \n",
       "59     HAMILTON MOURÃO  REPUBLICANOS           Direita    RS  MASCULINO   \n",
       "80          PAULO ROSA            DC           Direita    RS  MASCULINO   \n",
       "121   ANA AMÉLIA LEMOS           PSD           Direita    RS   FEMININO   \n",
       "133  MARISTELA ZANOTTO           PSC           Direita    RS   FEMININO   \n",
       "195     PROFESSOR NADO        AVANTE            Centro    RS  MASCULINO   \n",
       "\n",
       "    DS_COR_RACA  NR_IDADE_DATA_POSSE  VR_BEM_CANDIDATO AGRUPAMENTO_BENS  \\\n",
       "17       BRANCA                 81.0         2163318.0          BENS_G1   \n",
       "29       BRANCA                 54.0         1243859.0          BENS_G1   \n",
       "52       BRANCA                 45.0          109000.0          BENS_G3   \n",
       "59     INDÍGENA                 69.0         1145762.0          BENS_G1   \n",
       "80       BRANCA                 54.0               NaN              NaN   \n",
       "121      BRANCA                 77.0         6063946.0          BENS_G1   \n",
       "133      BRANCA                 59.0          432426.0          BENS_G2   \n",
       "195      BRANCA                 58.0          350000.0          BENS_G2   \n",
       "\n",
       "               DS_GRAU_INSTRUCAO  \\\n",
       "17             SUPERIOR COMPLETO   \n",
       "29             SUPERIOR COMPLETO   \n",
       "52             SUPERIOR COMPLETO   \n",
       "59             SUPERIOR COMPLETO   \n",
       "80       ENSINO MÉDIO INCOMPLETO   \n",
       "121            SUPERIOR COMPLETO   \n",
       "133  ENSINO FUNDAMENTAL COMPLETO   \n",
       "195            SUPERIOR COMPLETO   \n",
       "\n",
       "                                         DS_OCUPACAO ST_REELEICAO  \\\n",
       "17                 SERVIDOR PÚBLICO CIVIL APOSENTADO            N   \n",
       "29                                          VEREADOR            N   \n",
       "52                        SERVIDOR PÚBLICO MUNICIPAL            N   \n",
       "59                         MEMBRO DAS FORÇAS ARMADAS            N   \n",
       "80                                        EMPRESÁRIO            N   \n",
       "121                             JORNALISTA E REDATOR            N   \n",
       "133                                       EMPRESÁRIO            N   \n",
       "195  PROFESSOR DE ENSINO DE PRIMEIRO E SEGUNDO GRAUS            N   \n",
       "\n",
       "           NM_EMAIL  NR_CANDIDATO  \n",
       "17   NÃO DIVULGÁVEL           131  \n",
       "29   NÃO DIVULGÁVEL           111  \n",
       "52   NÃO DIVULGÁVEL           160  \n",
       "59   NÃO DIVULGÁVEL           100  \n",
       "80   NÃO DIVULGÁVEL           270  \n",
       "121  NÃO DIVULGÁVEL           555  \n",
       "133  NÃO DIVULGÁVEL           200  \n",
       "195  NÃO DIVULGÁVEL           700  "
      ]
     },
     "execution_count": 14,
     "metadata": {},
     "output_type": "execute_result"
    }
   ],
   "source": [
    "candidatosSenador = pd.read_csv(\"candidatosSenador.csv\")\n",
    "candidatosSenador = candidatosSenador[(candidatosSenador['SG_UF']=='RS')]\n",
    "\n",
    "candidatosSenador"
   ]
  },
  {
   "cell_type": "markdown",
   "id": "f102b0dd-d1df-4082-bb1f-850905bba0d3",
   "metadata": {},
   "source": [
    "## processamento de dados.."
   ]
  },
  {
   "cell_type": "code",
   "execution_count": 3,
   "id": "7f464cd8-af91-401d-a99a-7ca5ebed64e5",
   "metadata": {},
   "outputs": [],
   "source": [
    "# fonte: https://dadosabertos.tse.jus.br/dataset/candidatos-2022\n",
    "import pandas as pd\n",
    "import glob\n",
    "df = pd.read_csv(\"candidatos.csv\", sep=\";\", encoding=\"ISO-8859-1\")\n"
   ]
  },
  {
   "cell_type": "code",
   "execution_count": 184,
   "id": "0ed10c51-1eae-4d6d-8c18-f0b95c6e80f6",
   "metadata": {},
   "outputs": [],
   "source": [
    "faixa_bens = ['BENS_G4','BENS_G3','BENS_G2','BENS_G1']\n",
    "bens = pd.read_csv(\"bens.csv\", sep=\";\", encoding=\"ISO-8859-1\")\n",
    "\n",
    "bens['VR_BEM_CANDIDATO'] = bens['VR_BEM_CANDIDATO'].replace(\",\",\".\", regex= True)\n",
    "\n",
    "bens['VR_BEM_CANDIDATO'] = bens['VR_BEM_CANDIDATO'].astype(float).round(0).astype(int)\n",
    "\n",
    "somaBens = bens.groupby(['SQ_CANDIDATO']).agg({'VR_BEM_CANDIDATO':'sum'})\n",
    "somaBens.to_csv(\"soma-bens-2018.csv\")\n",
    "\n",
    "somaBens = pd.read_csv(\"soma-bens-2018.csv\", sep=\",\", encoding=\"utf-8\")\n",
    "\n",
    "df = pd.merge(df, somaBens, how='left', left_on=['SQ_CANDIDATO'], right_on=['SQ_CANDIDATO'])\n",
    "\n",
    "df['AGRUPAMENTO_BENS'] = pd.qcut(df['VR_BEM_CANDIDATO'],4,precision=0,labels=faixa_bens)"
   ]
  },
  {
   "cell_type": "code",
   "execution_count": 185,
   "id": "70ada0f0-dd12-4c2c-a189-8d7e8cc0ac58",
   "metadata": {},
   "outputs": [],
   "source": [
    "ideologias = pd.read_csv(\"ideologia-partidos.csv\", sep=\",\", encoding=\"utf-8\")\n",
    "\n",
    "df = pd.merge(df.astype(\"str\"), ideologias.astype(\"str\"), how='left', left_on=['SG_PARTIDO'], right_on=['PARTIDO'])"
   ]
  },
  {
   "cell_type": "code",
   "execution_count": 186,
   "id": "4167f549-a672-4250-86f8-ae385639a7fc",
   "metadata": {},
   "outputs": [],
   "source": [
    "keep = ['DS_CARGO','NM_URNA_CANDIDATO','SG_PARTIDO','IDEOLOGIA_PARTIDO','SG_UF','DS_GENERO','DS_COR_RACA','NR_IDADE_DATA_POSSE','VR_BEM_CANDIDATO','AGRUPAMENTO_BENS','DS_GRAU_INSTRUCAO','DS_OCUPACAO','ST_REELEICAO','DS_SITUACAO_CANDIDATO_URNA','NM_EMAIL','NR_CANDIDATO']\n",
    "\n",
    "df = df[keep]"
   ]
  },
  {
   "cell_type": "code",
   "execution_count": 187,
   "id": "a20deacb-978f-46e2-a167-315839dde91f",
   "metadata": {},
   "outputs": [],
   "source": [
    "candidatosDeferidos = df[(df['DS_SITUACAO_CANDIDATO_URNA']=='DEFERIDO')]\n",
    "\n",
    "candidatosDepEstadual = candidatosDeferidos[(candidatosDeferidos['DS_CARGO']=='DEPUTADO ESTADUAL')]\n",
    "\n",
    "candidatosDepEstadual = candidatosDepEstadual.drop(columns=[\"DS_CARGO\",\"DS_SITUACAO_CANDIDATO_URNA\"],axis=1)\n",
    "\n",
    "candidatosDepEstadual.to_csv(\"candidatosDepEstadual.csv\", index=False)\n",
    "\n",
    "candidatosDepFederal = candidatosDeferidos[(candidatosDeferidos['DS_CARGO']=='DEPUTADO FEDERAL')]\n",
    "\n",
    "candidatosDepFederal = candidatosDepFederal.drop(columns=[\"DS_CARGO\",\"DS_SITUACAO_CANDIDATO_URNA\"],axis=1)\n",
    "\n",
    "candidatosDepFederal.to_csv(\"candidatosDepFederal.csv\", index=False)\n",
    "\n",
    "candidatosSenador = candidatosDeferidos[(candidatosDeferidos['DS_CARGO']=='SENADOR')]\n",
    "\n",
    "candidatosSenador = candidatosSenador.drop(columns=[\"DS_CARGO\",\"DS_SITUACAO_CANDIDATO_URNA\"],axis=1)\n",
    "\n",
    "candidatosSenador.to_csv(\"candidatosSenador.csv\", index=False)"
   ]
  }
 ],
 "metadata": {
  "kernelspec": {
   "display_name": "Python 3 (ipykernel)",
   "language": "python",
   "name": "python3"
  },
  "language_info": {
   "codemirror_mode": {
    "name": "ipython",
    "version": 3
   },
   "file_extension": ".py",
   "mimetype": "text/x-python",
   "name": "python",
   "nbconvert_exporter": "python",
   "pygments_lexer": "ipython3",
   "version": "3.10.4"
  }
 },
 "nbformat": 4,
 "nbformat_minor": 5
}
